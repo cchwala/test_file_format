{
 "cells": [
  {
   "cell_type": "code",
   "execution_count": 1,
   "metadata": {
    "collapsed": false
   },
   "outputs": [],
   "source": [
    "import numpy as np\n",
    "import pandas as pd\n",
    "import h5py\n",
    "from pprint import pprint\n",
    "\n",
    "from pycmlh5.pycmlh5.metadata_def_parser import read_and_check_metadata"
   ]
  },
  {
   "cell_type": "markdown",
   "metadata": {},
   "source": [
    "For now I use the abbreviation **CML** for commercial microwave link. Hence the preliminary name of the file format is **`cmlh5`**, since it is just a definition of the structure of a HDF5 file. I have chosen the abbreviatoin CML over, e.g. MWL, because it is easier to pronounnce and seperates a bit more from all other MW related stuff. I would be happy to get feedback, not only on the file format, but also on the naming."
   ]
  },
  {
   "cell_type": "markdown",
   "metadata": {},
   "source": [
    "# Example structure of a cmlh5 file "
   ]
  },
  {
   "cell_type": "markdown",
   "metadata": {},
   "source": [
    "```\n",
    "\n",
    "/                               RootGroup\n",
    "/cml_1                          Group for first CML\n",
    "/cml_1/channel_1 \t\t       Group for first channel\n",
    "/cml_1/channel_1/rx\t\t     Array of RSL values in dBm \n",
    "/cml_1/channel_1/tx\t\t     Array of TSL values in dBm\n",
    "/cml_1/channel_1/time\t\t   Array of timestamps in POSIX time\n",
    "\n",
    "/cml_1/channel_2 \t\t       Group for second CML channel_2 /cml_1/channel_2/rx \t\n",
    "/cml_1/channel_2/tx\t\t\n",
    "/cml_1/channel_2/time\n",
    "\n",
    "\n",
    "/cml_2 \t\t\t\t         Group for second CML\n",
    "/cml_2/channel_1 \t\t\n",
    "/cml_2/channel_1/rx\t\t\n",
    "/cml_2/channel_1/tx\t\t\n",
    "/cml_2/channel_1/time\t\t\n",
    "\n",
    "```\n"
   ]
  },
  {
   "cell_type": "markdown",
   "metadata": {},
   "source": [
    "# Overview of the metadata definition for each level\n",
    "The metadata definitions are stored in CSV files so that they can be easily used as the basis for parsers in other languages"
   ]
  },
  {
   "cell_type": "markdown",
   "metadata": {},
   "source": [
    "## Metadata at the root level"
   ]
  },
  {
   "cell_type": "code",
   "execution_count": 2,
   "metadata": {
    "collapsed": false
   },
   "outputs": [
    {
     "data": {
      "text/html": [
       "<div>\n",
       "<table border=\"1\" class=\"dataframe\">\n",
       "  <thead>\n",
       "    <tr style=\"text-align: right;\">\n",
       "      <th></th>\n",
       "      <th>Units</th>\n",
       "      <th>Type</th>\n",
       "      <th>Mandatory</th>\n",
       "      <th>Description</th>\n",
       "    </tr>\n",
       "    <tr>\n",
       "      <th>Metadata name</th>\n",
       "      <th></th>\n",
       "      <th></th>\n",
       "      <th></th>\n",
       "      <th></th>\n",
       "    </tr>\n",
       "  </thead>\n",
       "  <tbody>\n",
       "    <tr>\n",
       "      <th>file_format</th>\n",
       "      <td>-</td>\n",
       "      <td>string</td>\n",
       "      <td>True</td>\n",
       "      <td>This must always be set to ‘CMLh5’</td>\n",
       "    </tr>\n",
       "    <tr>\n",
       "      <th>file_format_version</th>\n",
       "      <td>-</td>\n",
       "      <td>string</td>\n",
       "      <td>True</td>\n",
       "      <td>examples: ‘0.1, ‘1.2’, ...</td>\n",
       "    </tr>\n",
       "    <tr>\n",
       "      <th>author_name</th>\n",
       "      <td>-</td>\n",
       "      <td>string</td>\n",
       "      <td>False</td>\n",
       "      <td>NaN</td>\n",
       "    </tr>\n",
       "    <tr>\n",
       "      <th>author_email</th>\n",
       "      <td>-</td>\n",
       "      <td>string</td>\n",
       "      <td>False</td>\n",
       "      <td>NaN</td>\n",
       "    </tr>\n",
       "  </tbody>\n",
       "</table>\n",
       "</div>"
      ],
      "text/plain": [
       "                    Units    Type Mandatory  \\\n",
       "Metadata name                                 \n",
       "file_format             -  string      True   \n",
       "file_format_version     -  string      True   \n",
       "author_name             -  string     False   \n",
       "author_email            -  string     False   \n",
       "\n",
       "                                            Description  \n",
       "Metadata name                                            \n",
       "file_format          This must always be set to ‘CMLh5’  \n",
       "file_format_version          examples: ‘0.1, ‘1.2’, ...  \n",
       "author_name                                         NaN  \n",
       "author_email                                        NaN  "
      ]
     },
     "execution_count": 2,
     "metadata": {},
     "output_type": "execute_result"
    }
   ],
   "source": [
    "pd.read_csv('definitions/metadata_def_root_level.csv', delimiter=',', index_col=0)"
   ]
  },
  {
   "cell_type": "markdown",
   "metadata": {},
   "source": [
    "## Metadata  at the CML level"
   ]
  },
  {
   "cell_type": "code",
   "execution_count": 3,
   "metadata": {
    "collapsed": false
   },
   "outputs": [
    {
     "data": {
      "text/html": [
       "<div>\n",
       "<table border=\"1\" class=\"dataframe\">\n",
       "  <thead>\n",
       "    <tr style=\"text-align: right;\">\n",
       "      <th></th>\n",
       "      <th>Units</th>\n",
       "      <th>Type</th>\n",
       "      <th>Mandatory</th>\n",
       "      <th>Description</th>\n",
       "    </tr>\n",
       "    <tr>\n",
       "      <th>Metadata name</th>\n",
       "      <th></th>\n",
       "      <th></th>\n",
       "      <th></th>\n",
       "      <th></th>\n",
       "    </tr>\n",
       "  </thead>\n",
       "  <tbody>\n",
       "    <tr>\n",
       "      <th>site_a_latitude</th>\n",
       "      <td>Decimal degrees</td>\n",
       "      <td>float16</td>\n",
       "      <td>True</td>\n",
       "      <td>NaN</td>\n",
       "    </tr>\n",
       "    <tr>\n",
       "      <th>site_a_longitude</th>\n",
       "      <td>Decimal degrees</td>\n",
       "      <td>float16</td>\n",
       "      <td>True</td>\n",
       "      <td>NaN</td>\n",
       "    </tr>\n",
       "    <tr>\n",
       "      <th>site_a_altitude</th>\n",
       "      <td>Meter</td>\n",
       "      <td>float16</td>\n",
       "      <td>False</td>\n",
       "      <td>NaN</td>\n",
       "    </tr>\n",
       "    <tr>\n",
       "      <th>site_a_antenna_above_ground</th>\n",
       "      <td>Meter</td>\n",
       "      <td>float16</td>\n",
       "      <td>False</td>\n",
       "      <td>NaN</td>\n",
       "    </tr>\n",
       "    <tr>\n",
       "      <th>site_a_id</th>\n",
       "      <td>-</td>\n",
       "      <td>string</td>\n",
       "      <td>False</td>\n",
       "      <td>NaN</td>\n",
       "    </tr>\n",
       "    <tr>\n",
       "      <th>site_b_latitude</th>\n",
       "      <td>Decimal degrees</td>\n",
       "      <td>float16</td>\n",
       "      <td>True</td>\n",
       "      <td>NaN</td>\n",
       "    </tr>\n",
       "    <tr>\n",
       "      <th>site_b_longitude</th>\n",
       "      <td>Decimal degrees</td>\n",
       "      <td>float16</td>\n",
       "      <td>True</td>\n",
       "      <td>NaN</td>\n",
       "    </tr>\n",
       "    <tr>\n",
       "      <th>site_b_altitude</th>\n",
       "      <td>Meter</td>\n",
       "      <td>float16</td>\n",
       "      <td>False</td>\n",
       "      <td>NaN</td>\n",
       "    </tr>\n",
       "    <tr>\n",
       "      <th>site_b_antenna_above_ground</th>\n",
       "      <td>Meter</td>\n",
       "      <td>float16</td>\n",
       "      <td>False</td>\n",
       "      <td>NaN</td>\n",
       "    </tr>\n",
       "    <tr>\n",
       "      <th>site_b_id</th>\n",
       "      <td>-</td>\n",
       "      <td>string</td>\n",
       "      <td>False</td>\n",
       "      <td>NaN</td>\n",
       "    </tr>\n",
       "    <tr>\n",
       "      <th>length</th>\n",
       "      <td>Kilometer</td>\n",
       "      <td>float16</td>\n",
       "      <td>False</td>\n",
       "      <td>Strongly recommended</td>\n",
       "    </tr>\n",
       "    <tr>\n",
       "      <th>cml_id</th>\n",
       "      <td>-</td>\n",
       "      <td>string</td>\n",
       "      <td>True</td>\n",
       "      <td>NaN</td>\n",
       "    </tr>\n",
       "    <tr>\n",
       "      <th>cml_owner</th>\n",
       "      <td>-</td>\n",
       "      <td>string</td>\n",
       "      <td>False</td>\n",
       "      <td>NaN</td>\n",
       "    </tr>\n",
       "    <tr>\n",
       "      <th>cml_operator</th>\n",
       "      <td>-</td>\n",
       "      <td>string</td>\n",
       "      <td>False</td>\n",
       "      <td>NaN</td>\n",
       "    </tr>\n",
       "    <tr>\n",
       "      <th>system_manufacturer</th>\n",
       "      <td>-</td>\n",
       "      <td>string</td>\n",
       "      <td>False</td>\n",
       "      <td>NaN</td>\n",
       "    </tr>\n",
       "    <tr>\n",
       "      <th>system_model</th>\n",
       "      <td>-</td>\n",
       "      <td>string</td>\n",
       "      <td>False</td>\n",
       "      <td>NaN</td>\n",
       "    </tr>\n",
       "    <tr>\n",
       "      <th>system_configuration</th>\n",
       "      <td>-</td>\n",
       "      <td>string</td>\n",
       "      <td>False</td>\n",
       "      <td>Options are: ‘1+0’ ‘1+1_SD ’ ‘1+1_HSB’ (‘2+0’)...</td>\n",
       "    </tr>\n",
       "  </tbody>\n",
       "</table>\n",
       "</div>"
      ],
      "text/plain": [
       "                                       Units     Type Mandatory  \\\n",
       "Metadata name                                                     \n",
       "site_a_latitude              Decimal degrees  float16      True   \n",
       "site_a_longitude             Decimal degrees  float16      True   \n",
       "site_a_altitude                        Meter  float16     False   \n",
       "site_a_antenna_above_ground            Meter  float16     False   \n",
       "site_a_id                                  -   string     False   \n",
       "site_b_latitude              Decimal degrees  float16      True   \n",
       "site_b_longitude             Decimal degrees  float16      True   \n",
       "site_b_altitude                        Meter  float16     False   \n",
       "site_b_antenna_above_ground            Meter  float16     False   \n",
       "site_b_id                                  -   string     False   \n",
       "length                             Kilometer  float16     False   \n",
       "cml_id                                     -   string      True   \n",
       "cml_owner                                  -   string     False   \n",
       "cml_operator                               -   string     False   \n",
       "system_manufacturer                        -   string     False   \n",
       "system_model                               -   string     False   \n",
       "system_configuration                       -   string     False   \n",
       "\n",
       "                                                                   Description  \n",
       "Metadata name                                                                   \n",
       "site_a_latitude                                                            NaN  \n",
       "site_a_longitude                                                           NaN  \n",
       "site_a_altitude                                                            NaN  \n",
       "site_a_antenna_above_ground                                                NaN  \n",
       "site_a_id                                                                  NaN  \n",
       "site_b_latitude                                                            NaN  \n",
       "site_b_longitude                                                           NaN  \n",
       "site_b_altitude                                                            NaN  \n",
       "site_b_antenna_above_ground                                                NaN  \n",
       "site_b_id                                                                  NaN  \n",
       "length                                                    Strongly recommended  \n",
       "cml_id                                                                     NaN  \n",
       "cml_owner                                                                  NaN  \n",
       "cml_operator                                                               NaN  \n",
       "system_manufacturer                                                        NaN  \n",
       "system_model                                                               NaN  \n",
       "system_configuration         Options are: ‘1+0’ ‘1+1_SD ’ ‘1+1_HSB’ (‘2+0’)...  "
      ]
     },
     "execution_count": 3,
     "metadata": {},
     "output_type": "execute_result"
    }
   ],
   "source": [
    "pd.read_csv('definitions/metadata_def_cml_level.csv', delimiter=',', index_col=0)"
   ]
  },
  {
   "cell_type": "markdown",
   "metadata": {},
   "source": [
    "## Metadata at the channel level"
   ]
  },
  {
   "cell_type": "code",
   "execution_count": 4,
   "metadata": {
    "collapsed": false
   },
   "outputs": [
    {
     "data": {
      "text/html": [
       "<div>\n",
       "<table border=\"1\" class=\"dataframe\">\n",
       "  <thead>\n",
       "    <tr style=\"text-align: right;\">\n",
       "      <th></th>\n",
       "      <th>Units/Values</th>\n",
       "      <th>Type</th>\n",
       "      <th>Mandatory</th>\n",
       "      <th>Description</th>\n",
       "    </tr>\n",
       "    <tr>\n",
       "      <th>Metadata name</th>\n",
       "      <th></th>\n",
       "      <th></th>\n",
       "      <th></th>\n",
       "      <th></th>\n",
       "    </tr>\n",
       "  </thead>\n",
       "  <tbody>\n",
       "    <tr>\n",
       "      <th>frequency</th>\n",
       "      <td>GHz</td>\n",
       "      <td>float</td>\n",
       "      <td>True</td>\n",
       "      <td>NaN</td>\n",
       "    </tr>\n",
       "    <tr>\n",
       "      <th>polarization</th>\n",
       "      <td>[‘V’, ‘H’, ‘v’, ‘h’]</td>\n",
       "      <td>string</td>\n",
       "      <td>True</td>\n",
       "      <td>NaN</td>\n",
       "    </tr>\n",
       "    <tr>\n",
       "      <th>tx_site</th>\n",
       "      <td>[‘site_a’, ‘site_b’]</td>\n",
       "      <td>string</td>\n",
       "      <td>False</td>\n",
       "      <td>NaN</td>\n",
       "    </tr>\n",
       "    <tr>\n",
       "      <th>rx_site</th>\n",
       "      <td>-</td>\n",
       "      <td>string</td>\n",
       "      <td>False</td>\n",
       "      <td>NaN</td>\n",
       "    </tr>\n",
       "    <tr>\n",
       "      <th>channel_id</th>\n",
       "      <td>-</td>\n",
       "      <td>string</td>\n",
       "      <td>True</td>\n",
       "      <td>NaN</td>\n",
       "    </tr>\n",
       "    <tr>\n",
       "      <th>atpc</th>\n",
       "      <td>[‘on’, ‘off’]</td>\n",
       "      <td>string</td>\n",
       "      <td>True</td>\n",
       "      <td>NaN</td>\n",
       "    </tr>\n",
       "    <tr>\n",
       "      <th>tx_quantization</th>\n",
       "      <td>dBm</td>\n",
       "      <td>float</td>\n",
       "      <td>False</td>\n",
       "      <td>NaN</td>\n",
       "    </tr>\n",
       "    <tr>\n",
       "      <th>tx_quantization_type</th>\n",
       "      <td>[‘rounded’, ‘truncated’]</td>\n",
       "      <td>string</td>\n",
       "      <td>False</td>\n",
       "      <td>NaN</td>\n",
       "    </tr>\n",
       "    <tr>\n",
       "      <th>rx_quantization</th>\n",
       "      <td>dBm</td>\n",
       "      <td>float</td>\n",
       "      <td>False</td>\n",
       "      <td>NaN</td>\n",
       "    </tr>\n",
       "    <tr>\n",
       "      <th>rx_quantization_type</th>\n",
       "      <td>[‘rounded’, ‘truncated’]</td>\n",
       "      <td>string</td>\n",
       "      <td>False</td>\n",
       "      <td>NaN</td>\n",
       "    </tr>\n",
       "    <tr>\n",
       "      <th>tx_const</th>\n",
       "      <td>dBm</td>\n",
       "      <td>float</td>\n",
       "      <td>False</td>\n",
       "      <td>value of the TX level if ATPC is off</td>\n",
       "    </tr>\n",
       "    <tr>\n",
       "      <th>channel_name</th>\n",
       "      <td>-</td>\n",
       "      <td>string</td>\n",
       "      <td>False</td>\n",
       "      <td>NaN</td>\n",
       "    </tr>\n",
       "    <tr>\n",
       "      <th>additional_info</th>\n",
       "      <td>-</td>\n",
       "      <td>NaN</td>\n",
       "      <td>False</td>\n",
       "      <td>NaN</td>\n",
       "    </tr>\n",
       "    <tr>\n",
       "      <th>sampling_type</th>\n",
       "      <td>[‘mean’, ‘max’, ‘min’, ‘instantaneous’]</td>\n",
       "      <td>string</td>\n",
       "      <td>False</td>\n",
       "      <td>NaN</td>\n",
       "    </tr>\n",
       "    <tr>\n",
       "      <th>time_stamp_alignment</th>\n",
       "      <td>[‘left’, ‘center’, ‘right’]</td>\n",
       "      <td>string</td>\n",
       "      <td>False</td>\n",
       "      <td>Info on the association of the time stamp rega...</td>\n",
       "    </tr>\n",
       "    <tr>\n",
       "      <th>temporal_resolution</th>\n",
       "      <td>[‘not_constant, ‘min’, ‘s’, ‘30s’, ‘H’]</td>\n",
       "      <td>string</td>\n",
       "      <td>False</td>\n",
       "      <td>NaN</td>\n",
       "    </tr>\n",
       "  </tbody>\n",
       "</table>\n",
       "</div>"
      ],
      "text/plain": [
       "                                                 Units/Values    Type  \\\n",
       "Metadata name                                                           \n",
       "frequency                                                 GHz   float   \n",
       "polarization                             [‘V’, ‘H’, ‘v’, ‘h’]  string   \n",
       "tx_site                                  [‘site_a’, ‘site_b’]  string   \n",
       "rx_site                                                     -  string   \n",
       "channel_id                                                  -  string   \n",
       "atpc                                            [‘on’, ‘off’]  string   \n",
       "tx_quantization                                           dBm   float   \n",
       "tx_quantization_type                 [‘rounded’, ‘truncated’]  string   \n",
       "rx_quantization                                           dBm   float   \n",
       "rx_quantization_type                 [‘rounded’, ‘truncated’]  string   \n",
       "tx_const                                                  dBm   float   \n",
       "channel_name                                                -  string   \n",
       "additional_info                                             -     NaN   \n",
       "sampling_type         [‘mean’, ‘max’, ‘min’, ‘instantaneous’]  string   \n",
       "time_stamp_alignment              [‘left’, ‘center’, ‘right’]  string   \n",
       "temporal_resolution   [‘not_constant, ‘min’, ‘s’, ‘30s’, ‘H’]  string   \n",
       "\n",
       "                     Mandatory  \\\n",
       "Metadata name                    \n",
       "frequency                 True   \n",
       "polarization              True   \n",
       "tx_site                  False   \n",
       "rx_site                  False   \n",
       "channel_id                True   \n",
       "atpc                      True   \n",
       "tx_quantization          False   \n",
       "tx_quantization_type     False   \n",
       "rx_quantization          False   \n",
       "rx_quantization_type     False   \n",
       "tx_const                 False   \n",
       "channel_name             False   \n",
       "additional_info          False   \n",
       "sampling_type            False   \n",
       "time_stamp_alignment     False   \n",
       "temporal_resolution      False   \n",
       "\n",
       "                                                            Description  \n",
       "Metadata name                                                            \n",
       "frequency                                                           NaN  \n",
       "polarization                                                        NaN  \n",
       "tx_site                                                             NaN  \n",
       "rx_site                                                             NaN  \n",
       "channel_id                                                          NaN  \n",
       "atpc                                                                NaN  \n",
       "tx_quantization                                                     NaN  \n",
       "tx_quantization_type                                                NaN  \n",
       "rx_quantization                                                     NaN  \n",
       "rx_quantization_type                                                NaN  \n",
       "tx_const                           value of the TX level if ATPC is off  \n",
       "channel_name                                                        NaN  \n",
       "additional_info                                                     NaN  \n",
       "sampling_type                                                       NaN  \n",
       "time_stamp_alignment  Info on the association of the time stamp rega...  \n",
       "temporal_resolution                                                 NaN  "
      ]
     },
     "execution_count": 4,
     "metadata": {},
     "output_type": "execute_result"
    }
   ],
   "source": [
    "pd.read_csv('definitions/metadata_def_channel_level.csv', delimiter=',', index_col=0)"
   ]
  },
  {
   "cell_type": "markdown",
   "metadata": {},
   "source": [
    "## Metadata at the array level"
   ]
  },
  {
   "cell_type": "code",
   "execution_count": 5,
   "metadata": {
    "collapsed": false
   },
   "outputs": [
    {
     "data": {
      "text/html": [
       "<div>\n",
       "<table border=\"1\" class=\"dataframe\">\n",
       "  <thead>\n",
       "    <tr style=\"text-align: right;\">\n",
       "      <th></th>\n",
       "      <th>units/values</th>\n",
       "      <th>type</th>\n",
       "      <th>Mandatory</th>\n",
       "      <th>description</th>\n",
       "    </tr>\n",
       "    <tr>\n",
       "      <th>metadata name</th>\n",
       "      <th></th>\n",
       "      <th></th>\n",
       "      <th></th>\n",
       "      <th></th>\n",
       "    </tr>\n",
       "  </thead>\n",
       "  <tbody>\n",
       "    <tr>\n",
       "      <th>quantity</th>\n",
       "      <td>e.g. ‘power’</td>\n",
       "      <td>string</td>\n",
       "      <td>True</td>\n",
       "      <td>NaN</td>\n",
       "    </tr>\n",
       "    <tr>\n",
       "      <th>unit</th>\n",
       "      <td>e.g. ‘dBm’</td>\n",
       "      <td>string</td>\n",
       "      <td>True</td>\n",
       "      <td>NaN</td>\n",
       "    </tr>\n",
       "    <tr>\n",
       "      <th>side?</th>\n",
       "      <td>[‘transmitter’, ‘receiver’]</td>\n",
       "      <td>string</td>\n",
       "      <td>False</td>\n",
       "      <td>NaN</td>\n",
       "    </tr>\n",
       "    <tr>\n",
       "      <th>sampling?</th>\n",
       "      <td>[‘min’, ‘max’, ‘instant’, ‘mean’]</td>\n",
       "      <td>string</td>\n",
       "      <td>False</td>\n",
       "      <td>NaN</td>\n",
       "    </tr>\n",
       "    <tr>\n",
       "      <th>array_id</th>\n",
       "      <td>-</td>\n",
       "      <td>string</td>\n",
       "      <td>False</td>\n",
       "      <td>NaN</td>\n",
       "    </tr>\n",
       "  </tbody>\n",
       "</table>\n",
       "</div>"
      ],
      "text/plain": [
       "                                    units/values    type Mandatory  \\\n",
       "metadata name                                                        \n",
       "quantity                            e.g. ‘power’  string      True   \n",
       "unit                                  e.g. ‘dBm’  string      True   \n",
       "side?                [‘transmitter’, ‘receiver’]  string     False   \n",
       "sampling?      [‘min’, ‘max’, ‘instant’, ‘mean’]  string     False   \n",
       "array_id                                       -  string     False   \n",
       "\n",
       "               description  \n",
       "metadata name               \n",
       "quantity               NaN  \n",
       "unit                   NaN  \n",
       "side?                  NaN  \n",
       "sampling?              NaN  \n",
       "array_id               NaN  "
      ]
     },
     "execution_count": 5,
     "metadata": {},
     "output_type": "execute_result"
    }
   ],
   "source": [
    "pd.read_csv('definitions/metadata_def_array_level.csv', delimiter=',', index_col=0)"
   ]
  },
  {
   "cell_type": "markdown",
   "metadata": {},
   "source": [
    "# Check cmlh5 files\n",
    "Right now, this only checks the metadata at the root-, cml- and channel level. Further checks, e.g. for array-level, timestamp format, ..., will follow."
   ]
  },
  {
   "cell_type": "markdown",
   "metadata": {},
   "source": [
    "## Check a valid cmlh5 file\n",
    "This one was provided by Martin"
   ]
  },
  {
   "cell_type": "code",
   "execution_count": 6,
   "metadata": {
    "collapsed": false
   },
   "outputs": [],
   "source": [
    "fn = 'example_data/cml_martin2.h5'\n",
    "\n",
    "cml_metadata_list, error_list = read_and_check_metadata(fn)"
   ]
  },
  {
   "cell_type": "code",
   "execution_count": 7,
   "metadata": {
    "collapsed": false
   },
   "outputs": [
    {
     "name": "stdout",
     "output_type": "stream",
     "text": [
      "[u\"/cml_1: Metadata `site_a_latitude` is `50.1388` with type `<type 'numpy.float32'>` which should be float16\",\n",
      " u\"/cml_1: Metadata `site_b_longitude` is `14.5089` with type `<type 'numpy.float32'>` which should be float16\",\n",
      " u\"/cml_1: Metadata `length` is `0.899` with type `<type 'numpy.float32'>` which should be float16\",\n",
      " u\"/cml_1: Metadata `site_b_latitude` is `50.1308` with type `<type 'numpy.float32'>` which should be float16\",\n",
      " u\"/cml_1: Metadata `site_a_longitude` is `14.5098` with type `<type 'numpy.float32'>` which should be float16\",\n",
      " u\"/cml_1/channel_1: Metadata `rx_quantization` is `NA` with type `<type 'numpy.string_'>`, but it should be some kind of float\",\n",
      " u\"/cml_1/channel_1: Metadata `frequency` is `38.5` with type `<type 'numpy.float32'>` which should be float\",\n",
      " u\"/cml_1/channel_1: Metadata `tx_quantization` is `1.0` with type `<type 'numpy.float32'>` which should be float\",\n",
      " u'/cml_1/channel_1: Metadata type_str `nan` for `additional_info` is not supported']\n"
     ]
    }
   ],
   "source": [
    "pprint(error_list)"
   ]
  },
  {
   "cell_type": "code",
   "execution_count": 8,
   "metadata": {
    "collapsed": false
   },
   "outputs": [
    {
     "name": "stdout",
     "output_type": "stream",
     "text": [
      "[{u'cml_1': {u'channel_1': {'metadata': {'additional_info': 'This is a virtual channel of a virtual link generated for testing the CMLh5 data format',\n",
      "                                         'atpc': 'on',\n",
      "                                         'channel_id': '14850_10500',\n",
      "                                         'frequency': 38.5,\n",
      "                                         'polarization': 'V',\n",
      "                                         'rx_quantization': 'NA',\n",
      "                                         'rx_site': 'site_b',\n",
      "                                         'tx_quantization': 1.0,\n",
      "                                         'tx_site': 'site_a'}},\n",
      "             'metadata': {'cml_id': '14050_10500',\n",
      "                          'length': 0.89899999,\n",
      "                          'site_a_latitude': 50.13884,\n",
      "                          'site_a_longitude': 14.50976,\n",
      "                          'site_b_latitude': 50.130772,\n",
      "                          'site_b_longitude': 14.5089}}}]\n"
     ]
    }
   ],
   "source": [
    "pprint(cml_metadata_list)"
   ]
  },
  {
   "cell_type": "markdown",
   "metadata": {},
   "source": [
    "## Check a file which has some missing metadata and wrong metadata types\n"
   ]
  },
  {
   "cell_type": "markdown",
   "metadata": {},
   "source": [
    "The metadata will be parsed, even though there are errors. This behavior could of course be changed, e.g. so that the check simply aborts at the first error."
   ]
  },
  {
   "cell_type": "code",
   "execution_count": 9,
   "metadata": {
    "collapsed": true
   },
   "outputs": [],
   "source": [
    "fn = 'example_data/invalid.h5'\n",
    "\n",
    "cml_metadata_list, error_list = read_and_check_metadata(fn, strict_type_check=True)"
   ]
  },
  {
   "cell_type": "code",
   "execution_count": 10,
   "metadata": {
    "collapsed": false
   },
   "outputs": [
    {
     "name": "stdout",
     "output_type": "stream",
     "text": [
      "[u\"/cml_0: Metadata `site_a_latitude` is `47.93` with type `<type 'numpy.float64'>` which should be float16\",\n",
      " u\"/cml_0: Metadata `site_b_longitude` is `11.29` with type `<type 'numpy.float64'>` which should be float16\",\n",
      " u\"/cml_0: Metadata `length` is `7.63541519629` with type `<type 'numpy.float64'>` which should be float16\",\n",
      " u\"/cml_0: Metadata `site_b_latitude` is `47.99` with type `<type 'numpy.float64'>` which should be float16\",\n",
      " u'/cml_0: Mandatory metadata `cml_id` is missing',\n",
      " u\"/cml_0: Metadata `site_a_longitude` is `11.34` with type `<type 'numpy.float64'>` which should be float16\",\n",
      " u'/cml_0/channel_1: Mandatory metadata `channel_id` is missing',\n",
      " u'/cml_0/channel_1: Mandatory metadata `polarization` is missing',\n",
      " u\"/cml_0/channel_1: Metadata `frequency` is `18.085` with type `<type 'numpy.float64'>` which should be float\",\n",
      " u'/cml_0/channel_1: Mandatory metadata `atpc` is missing',\n",
      " u'/cml_0/channel_2: Mandatory metadata `channel_id` is missing',\n",
      " u'/cml_0/channel_2: Mandatory metadata `polarization` is missing',\n",
      " u\"/cml_0/channel_2: Metadata `frequency` is `19.095` with type `<type 'numpy.float64'>` which should be float\",\n",
      " u'/cml_0/channel_2: Mandatory metadata `atpc` is missing',\n",
      " u\"/cml_1: Metadata `site_a_latitude` is `47.59` with type `<type 'numpy.float64'>` which should be float16\",\n",
      " u\"/cml_1: Metadata `site_b_longitude` is `11.31` with type `<type 'numpy.float64'>` which should be float16\",\n",
      " u\"/cml_1: Metadata `length` is `69.7273412631` with type `<type 'numpy.float64'>` which should be float16\",\n",
      " u\"/cml_1: Metadata `site_b_latitude` is `47.13` with type `<type 'numpy.float64'>` which should be float16\",\n",
      " u'/cml_1: Mandatory metadata `cml_id` is missing',\n",
      " u\"/cml_1: Metadata `site_a_longitude` is `11.94` with type `<type 'numpy.float64'>` which should be float16\"]\n"
     ]
    }
   ],
   "source": [
    "pprint(error_list[0:20])"
   ]
  },
  {
   "cell_type": "code",
   "execution_count": 11,
   "metadata": {
    "collapsed": false
   },
   "outputs": [
    {
     "name": "stdout",
     "output_type": "stream",
     "text": [
      "[{u'cml_0': {u'channel_1': {'metadata': {'frequency': 18.085000000000001,\n",
      "                                         'sampling_type': 'instantaneous',\n",
      "                                         'temporal_resolution': '1min'}},\n",
      "             u'channel_2': {'metadata': {'frequency': 19.094999999999999,\n",
      "                                         'sampling_type': 'instantaneous',\n",
      "                                         'temporal_resolution': '1min'}},\n",
      "             'metadata': {'length': 7.6354151962942574,\n",
      "                          'site_a_latitude': 47.93,\n",
      "                          'site_a_longitude': 11.34,\n",
      "                          'site_b_latitude': 47.990000000000002,\n",
      "                          'site_b_longitude': 11.289999999999999,\n",
      "                          'system_manufacturer': 'Ericsson',\n",
      "                          'system_model': 'MINI LINK Traffic Node'}}},\n",
      " {u'cml_1': {u'channel_1': {'metadata': {'frequency': 25.920999999999999,\n",
      "                                         'sampling_type': 'instantaneous',\n",
      "                                         'temporal_resolution': '1min'}},\n",
      "             u'channel_2': {'metadata': {'frequency': 24.913,\n",
      "                                         'sampling_type': 'instantaneous',\n",
      "                                         'temporal_resolution': '1min'}},\n",
      "             'metadata': {'length': 69.727341263112265,\n",
      "                          'site_a_latitude': 47.590000000000003,\n",
      "                          'site_a_longitude': 11.94,\n",
      "                          'site_b_latitude': 47.130000000000003,\n",
      "                          'site_b_longitude': 11.31,\n",
      "                          'system_manufacturer': 'Ericsson',\n",
      "                          'system_model': 'MINI LINK Traffic Node'}}}]\n"
     ]
    }
   ],
   "source": [
    "pprint(cml_metadata_list[0:2])"
   ]
  },
  {
   "cell_type": "markdown",
   "metadata": {},
   "source": [
    "## Let's be less strict with the type checking\n",
    "e.g. we may not care whether something is a float64 instead of float32"
   ]
  },
  {
   "cell_type": "code",
   "execution_count": 12,
   "metadata": {
    "collapsed": true
   },
   "outputs": [],
   "source": [
    "fn = 'example_data/invalid.h5'\n",
    "\n",
    "cml_metadata_list, error_list = read_and_check_metadata(fn, strict_type_check=False)"
   ]
  },
  {
   "cell_type": "code",
   "execution_count": 13,
   "metadata": {
    "collapsed": false
   },
   "outputs": [
    {
     "name": "stdout",
     "output_type": "stream",
     "text": [
      "[u'/cml_0: Mandatory metadata `cml_id` is missing',\n",
      " u'/cml_0/channel_1: Mandatory metadata `channel_id` is missing',\n",
      " u'/cml_0/channel_1: Mandatory metadata `polarization` is missing',\n",
      " u'/cml_0/channel_1: Mandatory metadata `atpc` is missing',\n",
      " u'/cml_0/channel_2: Mandatory metadata `channel_id` is missing',\n",
      " u'/cml_0/channel_2: Mandatory metadata `polarization` is missing',\n",
      " u'/cml_0/channel_2: Mandatory metadata `atpc` is missing',\n",
      " u'/cml_1: Mandatory metadata `cml_id` is missing',\n",
      " u'/cml_1/channel_1: Mandatory metadata `channel_id` is missing',\n",
      " u'/cml_1/channel_1: Mandatory metadata `polarization` is missing',\n",
      " u'/cml_1/channel_1: Mandatory metadata `atpc` is missing',\n",
      " u'/cml_1/channel_2: Mandatory metadata `channel_id` is missing',\n",
      " u'/cml_1/channel_2: Mandatory metadata `polarization` is missing',\n",
      " u'/cml_1/channel_2: Mandatory metadata `atpc` is missing',\n",
      " u'/cml_2: Mandatory metadata `cml_id` is missing',\n",
      " u'/cml_2/channel_1: Mandatory metadata `channel_id` is missing',\n",
      " u'/cml_2/channel_1: Mandatory metadata `polarization` is missing',\n",
      " u'/cml_2/channel_1: Mandatory metadata `atpc` is missing',\n",
      " u'/cml_2/channel_2: Mandatory metadata `channel_id` is missing',\n",
      " u'/cml_2/channel_2: Mandatory metadata `polarization` is missing']\n"
     ]
    }
   ],
   "source": [
    "pprint(error_list[0:20])"
   ]
  },
  {
   "cell_type": "code",
   "execution_count": null,
   "metadata": {
    "collapsed": true
   },
   "outputs": [],
   "source": []
  }
 ],
 "metadata": {
  "kernelspec": {
   "display_name": "Python 2",
   "language": "python",
   "name": "python2"
  },
  "language_info": {
   "codemirror_mode": {
    "name": "ipython",
    "version": 2
   },
   "file_extension": ".py",
   "mimetype": "text/x-python",
   "name": "python",
   "nbconvert_exporter": "python",
   "pygments_lexer": "ipython2",
   "version": "2.7.11"
  }
 },
 "nbformat": 4,
 "nbformat_minor": 0
}
