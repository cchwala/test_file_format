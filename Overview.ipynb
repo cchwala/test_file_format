{
 "cells": [
  {
   "cell_type": "code",
   "execution_count": 1,
   "metadata": {
    "collapsed": true
   },
   "outputs": [],
   "source": [
    "import numpy as np\n",
    "import pandas as pd\n",
    "import h5py\n",
    "from pprint import pprint\n",
    "\n",
    "from pycmlh5.io import read_and_check_metadata"
   ]
  },
  {
   "cell_type": "markdown",
   "metadata": {},
   "source": [
    "For now I use the abbreviation **CML** for commercial microwave link. Hence the preliminary name of the file format is **`cmlh5`**, since it is just a definition of the structure of a HDF5 file. I have chosen the abbreviatoin CML over, e.g. MWL, because it is easier to pronounnce and seperates a bit more from all other MW related stuff. I would be happy to get feedback, not only on the file format, but also on the naming."
   ]
  },
  {
   "cell_type": "markdown",
   "metadata": {},
   "source": [
    "# Example structure of a cmlh5 file "
   ]
  },
  {
   "cell_type": "markdown",
   "metadata": {},
   "source": [
    "```\n",
    "\n",
    "/                               RootGroup\n",
    "/cml_1                          Group for first CML\n",
    "/cml_1/channel_1 \t\t       Group for first channel\n",
    "/cml_1/channel_1/rx\t\t     Array of RSL values in dBm \n",
    "/cml_1/channel_1/tx\t\t     Array of TSL values in dBm\n",
    "/cml_1/channel_1/time\t\t   Array of timestamps in POSIX time\n",
    "\n",
    "/cml_1/channel_2 \t\t       Group for second CML channel_2 /cml_1/channel_2/rx \t\n",
    "/cml_1/channel_2/tx\t\t\n",
    "/cml_1/channel_2/time\n",
    "\n",
    "\n",
    "/cml_2 \t\t\t\t         Group for second CML\n",
    "/cml_2/channel_1 \t\t\n",
    "/cml_2/channel_1/rx\t\t\n",
    "/cml_2/channel_1/tx\t\t\n",
    "/cml_2/channel_1/time\t\t\n",
    "\n",
    "```\n"
   ]
  },
  {
   "cell_type": "markdown",
   "metadata": {},
   "source": [
    "# Overview of the metadata definition for each level\n",
    "The metadata definitions are stored in CSV files so that they can be easily used as the basis for parsers in other languages"
   ]
  },
  {
   "cell_type": "markdown",
   "metadata": {},
   "source": [
    "## Metadata at the root level"
   ]
  },
  {
   "cell_type": "code",
   "execution_count": 2,
   "metadata": {
    "collapsed": false
   },
   "outputs": [
    {
     "data": {
      "text/html": [
       "<div>\n",
       "<table border=\"1\" class=\"dataframe\">\n",
       "  <thead>\n",
       "    <tr style=\"text-align: right;\">\n",
       "      <th></th>\n",
       "      <th>Units</th>\n",
       "      <th>Type</th>\n",
       "      <th>Mandatory</th>\n",
       "      <th>Description</th>\n",
       "    </tr>\n",
       "    <tr>\n",
       "      <th>Metadata name</th>\n",
       "      <th></th>\n",
       "      <th></th>\n",
       "      <th></th>\n",
       "      <th></th>\n",
       "    </tr>\n",
       "  </thead>\n",
       "  <tbody>\n",
       "    <tr>\n",
       "      <th>file_format</th>\n",
       "      <td>None</td>\n",
       "      <td>string</td>\n",
       "      <td>True</td>\n",
       "      <td>This must always be set to ‘cmlh5’</td>\n",
       "    </tr>\n",
       "    <tr>\n",
       "      <th>file_format_version</th>\n",
       "      <td>None</td>\n",
       "      <td>string</td>\n",
       "      <td>True</td>\n",
       "      <td>examples: ‘0.1, ‘1.2’, ...</td>\n",
       "    </tr>\n",
       "    <tr>\n",
       "      <th>author_name</th>\n",
       "      <td>None</td>\n",
       "      <td>string</td>\n",
       "      <td>False</td>\n",
       "      <td>None</td>\n",
       "    </tr>\n",
       "    <tr>\n",
       "      <th>author_email</th>\n",
       "      <td>None</td>\n",
       "      <td>string</td>\n",
       "      <td>False</td>\n",
       "      <td>None</td>\n",
       "    </tr>\n",
       "  </tbody>\n",
       "</table>\n",
       "</div>"
      ],
      "text/plain": [
       "                     Units     Type  Mandatory  \\\n",
       "Metadata name                                    \n",
       "file_format           None   string       True   \n",
       "file_format_version   None   string       True   \n",
       "author_name           None   string      False   \n",
       "author_email          None   string      False   \n",
       "\n",
       "                                             Description  \n",
       "Metadata name                                             \n",
       "file_format           This must always be set to ‘cmlh5’  \n",
       "file_format_version           examples: ‘0.1, ‘1.2’, ...  \n",
       "author_name                                         None  \n",
       "author_email                                        None  "
      ]
     },
     "execution_count": 2,
     "metadata": {},
     "output_type": "execute_result"
    }
   ],
   "source": [
    "pd.read_csv('metadata_def_root_level.csv', delimiter=';', index_col=0)"
   ]
  },
  {
   "cell_type": "markdown",
   "metadata": {},
   "source": [
    "## Metadata  at the CML level"
   ]
  },
  {
   "cell_type": "code",
   "execution_count": 3,
   "metadata": {
    "collapsed": false
   },
   "outputs": [
    {
     "data": {
      "text/html": [
       "<div>\n",
       "<table border=\"1\" class=\"dataframe\">\n",
       "  <thead>\n",
       "    <tr style=\"text-align: right;\">\n",
       "      <th></th>\n",
       "      <th>Units</th>\n",
       "      <th>Type</th>\n",
       "      <th>Mandatory</th>\n",
       "      <th>Description</th>\n",
       "    </tr>\n",
       "    <tr>\n",
       "      <th>#Metadata name</th>\n",
       "      <th></th>\n",
       "      <th></th>\n",
       "      <th></th>\n",
       "      <th></th>\n",
       "    </tr>\n",
       "  </thead>\n",
       "  <tbody>\n",
       "    <tr>\n",
       "      <th>site_a_latitude</th>\n",
       "      <td>Decimal degrees</td>\n",
       "      <td>float32</td>\n",
       "      <td>True</td>\n",
       "      <td>None</td>\n",
       "    </tr>\n",
       "    <tr>\n",
       "      <th>site_a_longitude</th>\n",
       "      <td>Decimal degrees</td>\n",
       "      <td>float32</td>\n",
       "      <td>True</td>\n",
       "      <td>None</td>\n",
       "    </tr>\n",
       "    <tr>\n",
       "      <th>site_a_altitude</th>\n",
       "      <td>Meter</td>\n",
       "      <td>float32</td>\n",
       "      <td>False</td>\n",
       "      <td>None</td>\n",
       "    </tr>\n",
       "    <tr>\n",
       "      <th>site_a_antenna_above_ground</th>\n",
       "      <td>Meter</td>\n",
       "      <td>float32</td>\n",
       "      <td>False</td>\n",
       "      <td>None</td>\n",
       "    </tr>\n",
       "    <tr>\n",
       "      <th>site_a_id</th>\n",
       "      <td>None</td>\n",
       "      <td>string</td>\n",
       "      <td>False</td>\n",
       "      <td>None</td>\n",
       "    </tr>\n",
       "    <tr>\n",
       "      <th>site_b_latitude</th>\n",
       "      <td>Decimal degrees</td>\n",
       "      <td>float32</td>\n",
       "      <td>True</td>\n",
       "      <td>None</td>\n",
       "    </tr>\n",
       "    <tr>\n",
       "      <th>site_b_longitude</th>\n",
       "      <td>Decimal degrees</td>\n",
       "      <td>float32</td>\n",
       "      <td>True</td>\n",
       "      <td>None</td>\n",
       "    </tr>\n",
       "    <tr>\n",
       "      <th>site_b_altitude</th>\n",
       "      <td>Meter</td>\n",
       "      <td>float32</td>\n",
       "      <td>False</td>\n",
       "      <td>None</td>\n",
       "    </tr>\n",
       "    <tr>\n",
       "      <th>site_b_antenna_above_ground</th>\n",
       "      <td>Meter</td>\n",
       "      <td>float32</td>\n",
       "      <td>False</td>\n",
       "      <td>None</td>\n",
       "    </tr>\n",
       "    <tr>\n",
       "      <th>site_b_id</th>\n",
       "      <td>None</td>\n",
       "      <td>string</td>\n",
       "      <td>False</td>\n",
       "      <td>None</td>\n",
       "    </tr>\n",
       "    <tr>\n",
       "      <th>length</th>\n",
       "      <td>Kilometer</td>\n",
       "      <td>float32</td>\n",
       "      <td>False</td>\n",
       "      <td>None</td>\n",
       "    </tr>\n",
       "    <tr>\n",
       "      <th>cml_id</th>\n",
       "      <td>None</td>\n",
       "      <td>string</td>\n",
       "      <td>True</td>\n",
       "      <td>None</td>\n",
       "    </tr>\n",
       "    <tr>\n",
       "      <th>system_manufacturer</th>\n",
       "      <td>None</td>\n",
       "      <td>string</td>\n",
       "      <td>False</td>\n",
       "      <td>None</td>\n",
       "    </tr>\n",
       "    <tr>\n",
       "      <th>system_model</th>\n",
       "      <td>None</td>\n",
       "      <td>string</td>\n",
       "      <td>False</td>\n",
       "      <td>None</td>\n",
       "    </tr>\n",
       "    <tr>\n",
       "      <th>system_configuration</th>\n",
       "      <td>None</td>\n",
       "      <td>string</td>\n",
       "      <td>False</td>\n",
       "      <td>None</td>\n",
       "    </tr>\n",
       "  </tbody>\n",
       "</table>\n",
       "</div>"
      ],
      "text/plain": [
       "                                        Units      Type  Mandatory  \\\n",
       "#Metadata name                                                       \n",
       "site_a_latitude               Decimal degrees   float32       True   \n",
       "site_a_longitude              Decimal degrees   float32       True   \n",
       "site_a_altitude                         Meter   float32      False   \n",
       "site_a_antenna_above_ground             Meter   float32      False   \n",
       "site_a_id                                None    string      False   \n",
       "site_b_latitude               Decimal degrees   float32       True   \n",
       "site_b_longitude              Decimal degrees   float32       True   \n",
       "site_b_altitude                         Meter   float32      False   \n",
       "site_b_antenna_above_ground             Meter   float32      False   \n",
       "site_b_id                                None    string      False   \n",
       "length                              Kilometer   float32      False   \n",
       "cml_id                                   None    string       True   \n",
       "system_manufacturer                      None    string      False   \n",
       "system_model                             None    string      False   \n",
       "system_configuration                     None    string      False   \n",
       "\n",
       "                             Description  \n",
       "#Metadata name                            \n",
       "site_a_latitude                     None  \n",
       "site_a_longitude                    None  \n",
       "site_a_altitude                     None  \n",
       "site_a_antenna_above_ground         None  \n",
       "site_a_id                           None  \n",
       "site_b_latitude                     None  \n",
       "site_b_longitude                    None  \n",
       "site_b_altitude                     None  \n",
       "site_b_antenna_above_ground         None  \n",
       "site_b_id                           None  \n",
       "length                              None  \n",
       "cml_id                              None  \n",
       "system_manufacturer                 None  \n",
       "system_model                        None  \n",
       "system_configuration                None  "
      ]
     },
     "execution_count": 3,
     "metadata": {},
     "output_type": "execute_result"
    }
   ],
   "source": [
    "pd.read_csv('metadata_def_cml_level.csv', delimiter=';', index_col=0)"
   ]
  },
  {
   "cell_type": "markdown",
   "metadata": {},
   "source": [
    "## Metadata at the channel level"
   ]
  },
  {
   "cell_type": "code",
   "execution_count": 4,
   "metadata": {
    "collapsed": false
   },
   "outputs": [
    {
     "data": {
      "text/html": [
       "<div>\n",
       "<table border=\"1\" class=\"dataframe\">\n",
       "  <thead>\n",
       "    <tr style=\"text-align: right;\">\n",
       "      <th></th>\n",
       "      <th>Units</th>\n",
       "      <th>Type</th>\n",
       "      <th>Mandatory</th>\n",
       "      <th>Description</th>\n",
       "    </tr>\n",
       "    <tr>\n",
       "      <th>Metadata name</th>\n",
       "      <th></th>\n",
       "      <th></th>\n",
       "      <th></th>\n",
       "      <th></th>\n",
       "    </tr>\n",
       "  </thead>\n",
       "  <tbody>\n",
       "    <tr>\n",
       "      <th>frequency</th>\n",
       "      <td>GHz</td>\n",
       "      <td>float32</td>\n",
       "      <td>True</td>\n",
       "      <td>None</td>\n",
       "    </tr>\n",
       "    <tr>\n",
       "      <th>polarization</th>\n",
       "      <td>[‘V’, ‘H’, ‘v’, ‘h’]</td>\n",
       "      <td>string</td>\n",
       "      <td>True</td>\n",
       "      <td>None</td>\n",
       "    </tr>\n",
       "    <tr>\n",
       "      <th>tx_site</th>\n",
       "      <td>None</td>\n",
       "      <td>string</td>\n",
       "      <td>False</td>\n",
       "      <td>None</td>\n",
       "    </tr>\n",
       "    <tr>\n",
       "      <th>rx_site</th>\n",
       "      <td>None</td>\n",
       "      <td>string</td>\n",
       "      <td>False</td>\n",
       "      <td>None</td>\n",
       "    </tr>\n",
       "    <tr>\n",
       "      <th>channel_id</th>\n",
       "      <td>None</td>\n",
       "      <td>string</td>\n",
       "      <td>True</td>\n",
       "      <td>None</td>\n",
       "    </tr>\n",
       "    <tr>\n",
       "      <th>atpc</th>\n",
       "      <td>[‘on’, ‘off’]</td>\n",
       "      <td>string</td>\n",
       "      <td>True</td>\n",
       "      <td>None</td>\n",
       "    </tr>\n",
       "    <tr>\n",
       "      <th>tx_quantization</th>\n",
       "      <td>dBm</td>\n",
       "      <td>float32</td>\n",
       "      <td>False</td>\n",
       "      <td>None</td>\n",
       "    </tr>\n",
       "    <tr>\n",
       "      <th>rx_quantization</th>\n",
       "      <td>dBm</td>\n",
       "      <td>float32</td>\n",
       "      <td>False</td>\n",
       "      <td>None</td>\n",
       "    </tr>\n",
       "    <tr>\n",
       "      <th>tx_const</th>\n",
       "      <td>dBm</td>\n",
       "      <td>float32</td>\n",
       "      <td>False</td>\n",
       "      <td>value of the TX level if ATPC is off</td>\n",
       "    </tr>\n",
       "    <tr>\n",
       "      <th>channel_name</th>\n",
       "      <td>None</td>\n",
       "      <td>string</td>\n",
       "      <td>False</td>\n",
       "      <td>None</td>\n",
       "    </tr>\n",
       "    <tr>\n",
       "      <th>additional_info</th>\n",
       "      <td>None</td>\n",
       "      <td>None</td>\n",
       "      <td>False</td>\n",
       "      <td>None</td>\n",
       "    </tr>\n",
       "    <tr>\n",
       "      <th>sampling_type</th>\n",
       "      <td>[‘mean’, ‘max’, ‘min’, ‘instantaneous’]</td>\n",
       "      <td>string</td>\n",
       "      <td>False</td>\n",
       "      <td>None</td>\n",
       "    </tr>\n",
       "    <tr>\n",
       "      <th>temporal_resolution</th>\n",
       "      <td>[‘not_constant, ‘min’, ‘s’, ‘30s’, ‘H’]</td>\n",
       "      <td>string, False</td>\n",
       "      <td>None</td>\n",
       "      <td>NaN</td>\n",
       "    </tr>\n",
       "  </tbody>\n",
       "</table>\n",
       "</div>"
      ],
      "text/plain": [
       "                                                        Units            Type  \\\n",
       "Metadata name                                                                   \n",
       "frequency                                                 GHz         float32   \n",
       "polarization                             [‘V’, ‘H’, ‘v’, ‘h’]          string   \n",
       "tx_site                                                  None          string   \n",
       "rx_site                                                  None          string   \n",
       "channel_id                                               None          string   \n",
       "atpc                                            [‘on’, ‘off’]          string   \n",
       "tx_quantization                                           dBm         float32   \n",
       "rx_quantization                                           dBm         float32   \n",
       "tx_const                                                  dBm         float32   \n",
       "channel_name                                             None          string   \n",
       "additional_info                                          None            None   \n",
       "sampling_type         [‘mean’, ‘max’, ‘min’, ‘instantaneous’]          string   \n",
       "temporal_resolution   [‘not_constant, ‘min’, ‘s’, ‘30s’, ‘H’]   string, False   \n",
       "\n",
       "                     Mandatory                            Description  \n",
       "Metadata name                                                          \n",
       "frequency                 True                                   None  \n",
       "polarization              True                                   None  \n",
       "tx_site                  False                                   None  \n",
       "rx_site                  False                                   None  \n",
       "channel_id                True                                   None  \n",
       "atpc                      True                                   None  \n",
       "tx_quantization          False                                   None  \n",
       "rx_quantization          False                                   None  \n",
       "tx_const                 False   value of the TX level if ATPC is off  \n",
       "channel_name             False                                   None  \n",
       "additional_info          False                                   None  \n",
       "sampling_type            False                                   None  \n",
       "temporal_resolution       None                                    NaN  "
      ]
     },
     "execution_count": 4,
     "metadata": {},
     "output_type": "execute_result"
    }
   ],
   "source": [
    "pd.read_csv('metadata_def_channel_level.csv', delimiter=';', index_col=0)"
   ]
  },
  {
   "cell_type": "markdown",
   "metadata": {},
   "source": [
    "## Metadata at the array level"
   ]
  },
  {
   "cell_type": "markdown",
   "metadata": {},
   "source": [
    "...not implemented yet..."
   ]
  },
  {
   "cell_type": "markdown",
   "metadata": {},
   "source": [
    "# Check cmlh5 files\n",
    "Right now, this only checks the metadata at the root-, cml- and channel level. Further checks, e.g. for array-level, timestamp format, ..., will follow."
   ]
  },
  {
   "cell_type": "markdown",
   "metadata": {},
   "source": [
    "## Check a valid cmlh5 file\n",
    "This one was provided by Martin"
   ]
  },
  {
   "cell_type": "code",
   "execution_count": 5,
   "metadata": {
    "collapsed": true
   },
   "outputs": [],
   "source": [
    "fn = 'example_data/cml_martin2.h5'\n",
    "\n",
    "cml_metadata_list, error_list = read_and_check_metadata(fn)"
   ]
  },
  {
   "cell_type": "code",
   "execution_count": 6,
   "metadata": {
    "collapsed": false
   },
   "outputs": [
    {
     "name": "stdout",
     "output_type": "stream",
     "text": [
      "[]\n"
     ]
    }
   ],
   "source": [
    "pprint(error_list)"
   ]
  },
  {
   "cell_type": "code",
   "execution_count": 7,
   "metadata": {
    "collapsed": false
   },
   "outputs": [
    {
     "name": "stdout",
     "output_type": "stream",
     "text": [
      "[{u'cml_1': {u'channel_1': {'metadata': {'additional_info': 'This is a virtual channel of a virtual link generated for testing the CMLh5 data format',\n",
      "                                         'atpc': 'on',\n",
      "                                         'channel_id': '14850_10500',\n",
      "                                         'frequency': 38.5,\n",
      "                                         'polarization': 'V',\n",
      "                                         'rx_quantization': nan,\n",
      "                                         'rx_site': 'site_b',\n",
      "                                         'tx_quantization': 1.0,\n",
      "                                         'tx_site': 'site_a'}},\n",
      "             'metadata': {'cml_id': '14050_10500',\n",
      "                          'length': 0.89899999,\n",
      "                          'site_a_latitude': 50.13884,\n",
      "                          'site_a_longitude': 14.50976,\n",
      "                          'site_b_latitude': 50.130772,\n",
      "                          'site_b_longitude': 14.5089}}}]\n"
     ]
    }
   ],
   "source": [
    "pprint(cml_metadata_list)"
   ]
  },
  {
   "cell_type": "markdown",
   "metadata": {},
   "source": [
    "## Check a file which has some missing metadata and wrong metadata types\n"
   ]
  },
  {
   "cell_type": "markdown",
   "metadata": {},
   "source": [
    "The metadata will be parsed, even though their are errors. This behavior could of course be changed, e.g. so that the check simply aborts at the first error."
   ]
  },
  {
   "cell_type": "code",
   "execution_count": 33,
   "metadata": {
    "collapsed": true
   },
   "outputs": [],
   "source": [
    "fn = 'example_data/invalid.h5'\n",
    "\n",
    "cml_metadata_list, error_list = read_and_check_metadata(fn)"
   ]
  },
  {
   "cell_type": "code",
   "execution_count": 35,
   "metadata": {
    "collapsed": false
   },
   "outputs": [
    {
     "name": "stdout",
     "output_type": "stream",
     "text": [
      "[u\"/cml_0: Metadata `site_a_latitude` is `47.93` with type `<type 'numpy.float64'>` which should be np.float32\",\n",
      " u\"/cml_0: Metadata `site_b_longitude` is `11.29` with type `<type 'numpy.float64'>` which should be np.float32\",\n",
      " u\"/cml_0: Metadata `length` is `7.63541519629` with type `<type 'numpy.float64'>` which should be np.float32\",\n",
      " u\"/cml_0: Metadata `site_b_latitude` is `47.99` with type `<type 'numpy.float64'>` which should be np.float32\",\n",
      " u'/cml_0: Mandatory metadata `cml_id` is missing',\n",
      " u\"/cml_0: Metadata `site_a_longitude` is `11.34` with type `<type 'numpy.float64'>` which should be np.float32\",\n",
      " u'/cml_0/channel_1: Mandatory metadata `channel_id` is missing',\n",
      " u'/cml_0/channel_1: Mandatory metadata `polarization` is missing',\n",
      " u\"/cml_0/channel_1: Metadata `frequency` is `18.085` with type `<type 'numpy.float64'>` which should be np.float32\",\n",
      " u'/cml_0/channel_1: Mandatory metadata `atpc` is missing',\n",
      " u'/cml_0/channel_2: Mandatory metadata `channel_id` is missing',\n",
      " u'/cml_0/channel_2: Mandatory metadata `polarization` is missing',\n",
      " u\"/cml_0/channel_2: Metadata `frequency` is `19.095` with type `<type 'numpy.float64'>` which should be np.float32\",\n",
      " u'/cml_0/channel_2: Mandatory metadata `atpc` is missing',\n",
      " u\"/cml_1: Metadata `site_a_latitude` is `47.59` with type `<type 'numpy.float64'>` which should be np.float32\",\n",
      " u\"/cml_1: Metadata `site_b_longitude` is `11.31` with type `<type 'numpy.float64'>` which should be np.float32\",\n",
      " u\"/cml_1: Metadata `length` is `69.7273412631` with type `<type 'numpy.float64'>` which should be np.float32\",\n",
      " u\"/cml_1: Metadata `site_b_latitude` is `47.13` with type `<type 'numpy.float64'>` which should be np.float32\",\n",
      " u'/cml_1: Mandatory metadata `cml_id` is missing',\n",
      " u\"/cml_1: Metadata `site_a_longitude` is `11.94` with type `<type 'numpy.float64'>` which should be np.float32\"]\n"
     ]
    }
   ],
   "source": [
    "pprint(error_list[0:20])"
   ]
  },
  {
   "cell_type": "code",
   "execution_count": 10,
   "metadata": {
    "collapsed": false
   },
   "outputs": [
    {
     "name": "stdout",
     "output_type": "stream",
     "text": [
      "[{u'cml_0': {u'channel_1': {'metadata': {'frequency': 18.085000000000001,\n",
      "                                         'sampling_type': 'instantaneous',\n",
      "                                         'temporal_resolution': '1min'}},\n",
      "             u'channel_2': {'metadata': {'frequency': 19.094999999999999,\n",
      "                                         'sampling_type': 'instantaneous',\n",
      "                                         'temporal_resolution': '1min'}},\n",
      "             'metadata': {'length': 9.9664763732756949,\n",
      "                          'site_a_latitude': 47.773000000000003,\n",
      "                          'site_a_longitude': 10.7721,\n",
      "                          'site_b_latitude': 47.819899999999997,\n",
      "                          'site_b_longitude': 10.885899999999999,\n",
      "                          'system_manufacturer': 'Ericsson',\n",
      "                          'system_model': 'MINI LINK Traffic Node'}}},\n",
      " {u'cml_1': {u'channel_1': {'metadata': {'frequency': 18.195,\n",
      "                                         'sampling_type': 'instantaneous',\n",
      "                                         'temporal_resolution': '1min'}},\n",
      "             u'channel_2': {'metadata': {'frequency': 19.204999999999998,\n",
      "                                         'sampling_type': 'instantaneous',\n",
      "                                         'temporal_resolution': '1min'}},\n",
      "             'metadata': {'length': 13.196548723922792,\n",
      "                          'site_a_latitude': 48.484299999999998,\n",
      "                          'site_a_longitude': 11.2067,\n",
      "                          'site_b_latitude': 48.4876,\n",
      "                          'site_b_longitude': 11.0276,\n",
      "                          'system_manufacturer': 'Ericsson',\n",
      "                          'system_model': 'MINI LINK Traffic Node'}}}]\n"
     ]
    }
   ],
   "source": [
    "pprint(cml_metadata_list[0:2])"
   ]
  },
  {
   "cell_type": "markdown",
   "metadata": {},
   "source": [
    "## Let's be less strict with the type checking\n",
    "e.g. we may not care whether something is a float64 instead of float32"
   ]
  },
  {
   "cell_type": "code",
   "execution_count": 36,
   "metadata": {
    "collapsed": true
   },
   "outputs": [],
   "source": [
    "fn = 'example_data/invalid.h5'\n",
    "\n",
    "cml_metadata_list, error_list = read_and_check_metadata(fn, strict_type_check=False)"
   ]
  },
  {
   "cell_type": "code",
   "execution_count": 37,
   "metadata": {
    "collapsed": false
   },
   "outputs": [
    {
     "name": "stdout",
     "output_type": "stream",
     "text": [
      "[u'/cml_0: Mandatory metadata `cml_id` is missing',\n",
      " u'/cml_0/channel_1: Mandatory metadata `channel_id` is missing',\n",
      " u'/cml_0/channel_1: Mandatory metadata `polarization` is missing',\n",
      " u'/cml_0/channel_1: Mandatory metadata `atpc` is missing',\n",
      " u'/cml_0/channel_2: Mandatory metadata `channel_id` is missing',\n",
      " u'/cml_0/channel_2: Mandatory metadata `polarization` is missing',\n",
      " u'/cml_0/channel_2: Mandatory metadata `atpc` is missing',\n",
      " u'/cml_1: Mandatory metadata `cml_id` is missing',\n",
      " u'/cml_1/channel_1: Mandatory metadata `channel_id` is missing',\n",
      " u'/cml_1/channel_1: Mandatory metadata `polarization` is missing',\n",
      " u'/cml_1/channel_1: Mandatory metadata `atpc` is missing',\n",
      " u'/cml_1/channel_2: Mandatory metadata `channel_id` is missing',\n",
      " u'/cml_1/channel_2: Mandatory metadata `polarization` is missing',\n",
      " u'/cml_1/channel_2: Mandatory metadata `atpc` is missing',\n",
      " u'/cml_2: Mandatory metadata `cml_id` is missing',\n",
      " u'/cml_2/channel_1: Mandatory metadata `channel_id` is missing',\n",
      " u'/cml_2/channel_1: Mandatory metadata `polarization` is missing',\n",
      " u'/cml_2/channel_1: Mandatory metadata `atpc` is missing',\n",
      " u'/cml_2/channel_2: Mandatory metadata `channel_id` is missing',\n",
      " u'/cml_2/channel_2: Mandatory metadata `polarization` is missing']\n"
     ]
    }
   ],
   "source": [
    "pprint(error_list[0:20])"
   ]
  },
  {
   "cell_type": "code",
   "execution_count": null,
   "metadata": {
    "collapsed": true
   },
   "outputs": [],
   "source": []
  }
 ],
 "metadata": {
  "kernelspec": {
   "display_name": "Python 2",
   "language": "python",
   "name": "python2"
  },
  "language_info": {
   "codemirror_mode": {
    "name": "ipython",
    "version": 2
   },
   "file_extension": ".py",
   "mimetype": "text/x-python",
   "name": "python",
   "nbconvert_exporter": "python",
   "pygments_lexer": "ipython2",
   "version": "2.7.11"
  }
 },
 "nbformat": 4,
 "nbformat_minor": 0
}
