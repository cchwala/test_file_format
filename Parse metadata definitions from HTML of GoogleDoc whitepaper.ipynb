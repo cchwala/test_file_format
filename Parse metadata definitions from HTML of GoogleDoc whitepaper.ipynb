{
 "cells": [
  {
   "cell_type": "code",
   "execution_count": 1,
   "metadata": {
    "collapsed": true
   },
   "outputs": [],
   "source": [
    "import re\n",
    "import pandas as pd\n",
    "from lxml.html import parse"
   ]
  },
  {
   "cell_type": "code",
   "execution_count": 2,
   "metadata": {
    "collapsed": false
   },
   "outputs": [],
   "source": [
    "def get_table_as_df(table):\n",
    "    ''' Ugly function to extract one HTML table into a DataFrame'''\n",
    "    \n",
    "    table_contents = []\n",
    "    tr_counter = 0\n",
    "    \n",
    "    # Find all <tr> elements\n",
    "    for table_e in table.getiterator():\n",
    "        if table_e.tag == 'tr':\n",
    "            tr = table_e\n",
    "            tr_counter += 1\n",
    "            tr_contents = []\n",
    "            td_counter = 0\n",
    "            mandatory_tr = 'False'\n",
    "            \n",
    "            # Find all <td> elements\n",
    "            for tr_e in tr.getiterator():\n",
    "                if tr_e.tag == 'td':\n",
    "                    td = tr_e\n",
    "                    td_contents = ''\n",
    "                    td_counter += 1\n",
    "                    \n",
    "                    # Add the column 'Mandatory' to the header, \n",
    "                    # which is in the first <tr> element.\n",
    "                    if tr_counter == 1 and td_counter == 4:\n",
    "                        tr_contents.append('Mandatory')\n",
    "                    \n",
    "                    # Find all text in <td> elements. Iteration is necessaty\n",
    "                    # for multiline text which has several text elements per <td>.\n",
    "                    td_text_counter = 0\n",
    "                    for td_e in td.getiterator():\n",
    "                        if td_e.text is not None:\n",
    "                            # Add up text strings\n",
    "                            text = td_e.text\n",
    "                            # exclude strings with short square brackets pairs, e.g. `[e]`, \n",
    "                            # stemming from GoogleDoc comments when exporting to HTML\n",
    "                            if not re.search(r'\\[\\w\\]', text):\n",
    "                                if td_contents.endswith('_'):\n",
    "                                    td_contents = td_contents + td_e.text\n",
    "                                else:\n",
    "                                    td_contents = td_contents + ' ' + td_e.text\n",
    "                            \n",
    "                            # check if the text element has a class, which indicates\n",
    "                            # that it origonally is bold text and hence is \n",
    "                            # mandatory metadata. Do this only for the first column\n",
    "                            # and not for the first row, which hold the header. Only\n",
    "                            # do this for the first text element that was found.\n",
    "                            td_text_counter += 1\n",
    "                            if td_text_counter == 1:\n",
    "                                if tr_counter > 1 and td_counter == 1:\n",
    "                                    if ('class' in td_e.attrib.keys()) and (td_e.attrib['class'] != 'c2'):\n",
    "                                        mandatory_tr = 'True'\n",
    "                                    else:\n",
    "                                        mandatory_tr = 'False'\n",
    "\n",
    "                    # Build list for one <tr>\n",
    "                    tr_contents.append(td_contents.strip())\n",
    "                    # Add the boolean (as string) for mandatoriness\n",
    "                    if tr_counter > 1 and td_counter == 3:\n",
    "                        tr_contents.append(' ' + mandatory_tr)\n",
    "                    \n",
    "            # Build list of <tr> lists\n",
    "            table_contents.append(tr_contents)\n",
    "    \n",
    "    # Get the first line of the table, which are the column names\n",
    "    header = table_contents.pop(0)\n",
    "    df = pd.DataFrame(table_contents, columns=header)\n",
    "    df.index = df[header[0]]\n",
    "    df = df.drop(header[0], axis=1)\n",
    "    \n",
    "    return df"
   ]
  },
  {
   "cell_type": "code",
   "execution_count": 3,
   "metadata": {
    "collapsed": false
   },
   "outputs": [
    {
     "name": "stdout",
     "output_type": "stream",
     "text": [
      "None\n",
      "None\n",
      "None\n",
      "None\n",
      "1 Background and Motivation\n",
      "2 CML Terminology\n",
      "3 CMLh5 data format structure\n",
      "3.1 Example structure of a CMLh5 file\n",
      "None\n",
      "3.2 Specifications of the arrays in the channel subgroup\n",
      "3.3 Dimension scales\n",
      "4 CMLh5 metadata conventions\n",
      "4.1 Metadata at the root level\n",
      "4.2 Metadata at the CML level\n",
      "4.3 Metadata at the channel level\n",
      "4.4 Metadata at the array level\n",
      "5 Missing data conventions\n"
     ]
    }
   ],
   "source": [
    "page = parse('html/CMLh5whitepaper.html')\n",
    "\n",
    "table_dict = {}\n",
    "current_key = 'foo'\n",
    "\n",
    "for e in page.getiterator():\n",
    "    if e.tag == 'h2' or e.tag == 'h1':\n",
    "        print e.getchildren()[0].text\n",
    "        current_key = e.getchildren()[0].text\n",
    "    if e.tag == 'table':\n",
    "        table_dict[current_key] = get_table_as_df(e)"
   ]
  },
  {
   "cell_type": "code",
   "execution_count": 4,
   "metadata": {
    "collapsed": false
   },
   "outputs": [
    {
     "name": "stdout",
     "output_type": "stream",
     "text": [
      "writing metadata_def_array_level.csv\n",
      "writing metadata_def_cml_level.csv\n",
      "writing metadata_def_channel_level.csv\n",
      "writing data_def_channel_level.csv\n",
      "writing metadata_def_root_level.csv\n",
      "writing missing_data_convetions.csv\n"
     ]
    }
   ],
   "source": [
    "heading_names_to_file_names = {\n",
    "    'data_def_channel_level.csv' : '3.2 Specifications of the arrays in the channel subgroup',\n",
    "    'metadata_def_root_level.csv': '4.1 Metadata at the root level',\n",
    "    'metadata_def_cml_level.csv': '4.2 Metadata at the CML level',\n",
    "    'metadata_def_channel_level.csv': '4.3 Metadata at the channel level',\n",
    "    'metadata_def_array_level.csv': '4.4 Metadata at the array level',\n",
    "    'missing_data_convetions.csv': '5 Missing data conventions'}\n",
    "\n",
    "for file_name, heading_name in heading_names_to_file_names.iteritems():\n",
    "    print 'writing ' + file_name\n",
    "    table_dict[heading_name].to_csv(file_name,  encoding='utf-8')"
   ]
  },
  {
   "cell_type": "code",
   "execution_count": null,
   "metadata": {
    "collapsed": true
   },
   "outputs": [],
   "source": []
  },
  {
   "cell_type": "code",
   "execution_count": null,
   "metadata": {
    "collapsed": true
   },
   "outputs": [],
   "source": []
  }
 ],
 "metadata": {
  "kernelspec": {
   "display_name": "Python 2",
   "language": "python",
   "name": "python2"
  },
  "language_info": {
   "codemirror_mode": {
    "name": "ipython",
    "version": 2
   },
   "file_extension": ".py",
   "mimetype": "text/x-python",
   "name": "python",
   "nbconvert_exporter": "python",
   "pygments_lexer": "ipython2",
   "version": "2.7.11"
  }
 },
 "nbformat": 4,
 "nbformat_minor": 0
}
