{
 "cells": [
  {
   "cell_type": "code",
   "execution_count": 1,
   "metadata": {
    "collapsed": true
   },
   "outputs": [],
   "source": [
    "import pandas as pd\n",
    "\n",
    "from lxml.html import parse"
   ]
  },
  {
   "cell_type": "code",
   "execution_count": 43,
   "metadata": {
    "collapsed": false
   },
   "outputs": [],
   "source": [
    "def get_table_as_df(table):\n",
    "    ''' Ugly function to extract an HTML table into a DataFrame'''\n",
    "    \n",
    "    table_contents = []\n",
    "    for e in table.getiterator():\n",
    "        tr_counter = 0\n",
    "        if e.tag == 'tr':\n",
    "            tr_counter += 1\n",
    "            tr_contents = []\n",
    "            for tr_e in e.getiterator():\n",
    "                if tr_e.tag == 'td':\n",
    "                    td_contents = ''\n",
    "                    for td_e in tr_e.getiterator():\n",
    "                        if td_e.text is not None:\n",
    "                            td_contents = td_contents + ' ' + td_e.text.split(' [')[0]\n",
    "                    tr_contents.append(td_contents)\n",
    "            table_contents.append(tr_contents)\n",
    "    \n",
    "    # Get the first line of the table, which are the column names\n",
    "    header = table_contents.pop(0)\n",
    "    df = pd.DataFrame(table_contents, columns=header)\n",
    "    df.index = df[header[0]]\n",
    "    df = df.drop(header[0], axis=1)\n",
    "    \n",
    "    return df"
   ]
  },
  {
   "cell_type": "code",
   "execution_count": 44,
   "metadata": {
    "collapsed": false
   },
   "outputs": [
    {
     "name": "stdout",
     "output_type": "stream",
     "text": [
      "None\n",
      "None\n",
      "None\n",
      "None\n",
      "1 Background and Motivation\n",
      "2 CML Terminology\n",
      "3 CMLh5 data format structure\n",
      "3.1 Example structure of a CMLh5 file\n",
      "None\n",
      "3.2 Specifications of the arrays in the channel subgroup\n",
      "3.3 Dimension scales\n",
      "4 CMLh5 metadata conventions\n",
      "4.1 Metadata at the root level\n",
      "4.2 Metadata at the CML level\n",
      "4.3 Metadata at the channel level\n",
      "4.4 Metadata at the array level\n",
      "5 Missing data conventions\n"
     ]
    }
   ],
   "source": [
    "page = parse('html/CMLh5whitepaper.html')\n",
    "\n",
    "table_dict = {}\n",
    "current_key = 'foo'\n",
    "\n",
    "for e in page.getiterator():\n",
    "    if e.tag == 'h2' or e.tag == 'h1':\n",
    "        print e.getchildren()[0].text\n",
    "        current_key = e.getchildren()[0].text\n",
    "    if e.tag == 'table':\n",
    "        table_dict[current_key] = get_table_as_df(e)"
   ]
  },
  {
   "cell_type": "code",
   "execution_count": 48,
   "metadata": {
    "collapsed": false
   },
   "outputs": [
    {
     "name": "stdout",
     "output_type": "stream",
     "text": [
      "writing metadata_def_array_level.csv\n",
      "writing metadata_def_cml_level.csv\n",
      "writing metadata_def_channel_level.csv\n",
      "writing data_def_channel_level.csv\n",
      "writing metadata_def_root_level.csv\n",
      "writing missing_data_convetions.csv\n"
     ]
    }
   ],
   "source": [
    "heading_names_to_file_names = {\n",
    "    'data_def_channel_level.csv' : '3.2 Specifications of the arrays in the channel subgroup',\n",
    "    'metadata_def_root_level.csv': '4.1 Metadata at the root level',\n",
    "    'metadata_def_cml_level.csv': '4.2 Metadata at the CML level',\n",
    "    'metadata_def_channel_level.csv': '4.3 Metadata at the channel level',\n",
    "    'metadata_def_array_level.csv': '4.4 Metadata at the array level',\n",
    "    'missing_data_convetions.csv': '5 Missing data conventions'}\n",
    "\n",
    "for file_name, heading_name in heading_names_to_file_names.iteritems():\n",
    "    print 'writing ' + file_name\n",
    "    table_dict[heading_name].to_csv(file_name,  encoding='utf-8')"
   ]
  },
  {
   "cell_type": "code",
   "execution_count": null,
   "metadata": {
    "collapsed": true
   },
   "outputs": [],
   "source": []
  }
 ],
 "metadata": {
  "kernelspec": {
   "display_name": "Python 2",
   "language": "python",
   "name": "python2"
  },
  "language_info": {
   "codemirror_mode": {
    "name": "ipython",
    "version": 2
   },
   "file_extension": ".py",
   "mimetype": "text/x-python",
   "name": "python",
   "nbconvert_exporter": "python",
   "pygments_lexer": "ipython2",
   "version": "2.7.11"
  }
 },
 "nbformat": 4,
 "nbformat_minor": 0
}
